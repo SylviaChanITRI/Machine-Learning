{
 "cells": [
  {
   "cell_type": "markdown",
   "id": "4362a78c-1c08-4bb9-b111-82b7addc2de7",
   "metadata": {},
   "source": [
    "### Write a Multi-Neuron Perception Model"
   ]
  },
  {
   "cell_type": "markdown",
   "id": "3117f6ea-03c5-48de-87b5-fc640f2a3d41",
   "metadata": {},
   "source": [
    "![](./assets/multi-neuron-perception-network.png)"
   ]
  },
  {
   "cell_type": "code",
   "execution_count": null,
   "id": "14460d09-2137-4f2a-b190-d8a045233646",
   "metadata": {},
   "outputs": [],
   "source": []
  },
  {
   "cell_type": "code",
   "execution_count": null,
   "id": "e448b1f9-7b61-4d5e-99df-20c3bbcc937e",
   "metadata": {},
   "outputs": [],
   "source": [
    "# Based on the following algorithum:\n",
    "# if (y is not equal to t)\n",
    "#    Wi(new)=Wi(old)+atx\n",
    "#    b(new)=b(old)+at\n",
    "# else\n",
    "#    Wi(new)=Wi(old)\n",
    "#    b(new)=b(old)\n",
    "\n",
    "\n",
    "import numpy as np\n",
    "import pandas as pd\n",
    "\n",
    "# Load data from https://www.kaggle.com/liujiaqi/hr-comma-sepcsv\n",
    "data=pd.read_csv('HR_comma_sep.csv')\n",
    "data.head()\n",
    "\n",
    "\n",
    "# Import LabelEncoder\n",
    "from sklearn import preprocessing\n",
    "\n",
    "# Creating labelEncoder\n",
    "le = precessing.LabelEncoder()\n",
    "\n",
    "# Converting string labels into numbers\n",
    "data['salary']=le.fit.transform(data['salary'])\n",
    "data['Departments']=le.fit_transform(data['Departments'])\n",
    "\n",
    "\n",
    "# Spliting data into Feature\n",
    "X=data['satisfaction_level', 'last_evaluation', 'number_project', 'average_monthly_hours', 'time_spend_company', 'Work_accident', 'promotion_last_5years', 'Departments', 'salary']]\n",
    "y=data['left']\n",
    "\n",
    "#Import train_test_split function\n",
    "from sklearn.model_selection import train_test_split\n",
    "\n",
    "# Split dataset into training set and test set\n",
    "X_train, X_test, y_train, y_test=train)testsplit(X, y, test_size=0.3, random_state=42)  # 70% training and 30% test\n",
    "\n",
    "\n",
    "# Import MLPClassifer\n",
    "from sklearn.neural_network import MLPClassifier\n",
    "\n",
    "# Create model object\n",
    "clf = MLPClassifier(hidden_layer_sizes=(6.5),\n",
    "                   random_state=5,\n",
    "                   verbose=True,\n",
    "                   learning_rate_init=0.01)\n",
    "\n",
    "# Fit data onto the model\n",
    "clf.fit(X_train, y_train)\n",
    "\n",
    "\n",
    "# Make prediction on test dataset\n",
    "ypred=clf.predict(X_test)\n",
    "\n",
    "# Import accuracy score\n",
    "from sklearn.metrics import accuracy_score\n",
    "\n",
    "# Calculate accuracy\n",
    "accuracy_score(y_test,ypred)"
   ]
  },
  {
   "cell_type": "markdown",
   "id": "f069ff28-f30e-4550-add6-54845f46cf9a",
   "metadata": {},
   "source": [
    "### 2-2. Using Iris Dataset to implement the classify models below via Scikit-Learn Machine Learning Library"
   ]
  },
  {
   "cell_type": "code",
   "execution_count": 8,
   "id": "bc066447-94f9-46fd-825e-a1284fd09d32",
   "metadata": {},
   "outputs": [],
   "source": [
    "# Iris Dataset, it contain 3 classes and 4 feature on each samples\n",
    "from sklearn import datasets\n",
    "\n",
    "data = datasets.load_iris()\n",
    "X, y = data['data'], data['target']"
   ]
  },
  {
   "cell_type": "code",
   "execution_count": 9,
   "id": "e35832ba-4afa-4868-b6d8-b0939c16b128",
   "metadata": {},
   "outputs": [
    {
     "data": {
      "text/plain": [
       "(['sepal length (cm)',\n",
       "  'sepal width (cm)',\n",
       "  'petal length (cm)',\n",
       "  'petal width (cm)'],\n",
       " {0: 'setosa', 1: 'versicolor', 2: 'virginica'})"
      ]
     },
     "execution_count": 9,
     "metadata": {},
     "output_type": "execute_result"
    }
   ],
   "source": [
    "data['feature_names'], {i: cls for i, cls in enumerate(data['target_names'])}"
   ]
  },
  {
   "cell_type": "markdown",
   "id": "31b34d94-3905-458f-b6ee-b4f7161eceed",
   "metadata": {},
   "source": [
    "1. Logistic Regression Classifier with Normalization Process"
   ]
  },
  {
   "cell_type": "code",
   "execution_count": null,
   "id": "14743de3-3469-4522-9534-7772a08bef03",
   "metadata": {},
   "outputs": [],
   "source": []
  },
  {
   "cell_type": "markdown",
   "id": "ce5399a9-66ff-4d1b-ae83-71916311871a",
   "metadata": {},
   "source": [
    "2. Support Vector Machine Classifier with Add Slack Variable to X"
   ]
  },
  {
   "cell_type": "code",
   "execution_count": null,
   "id": "877c3dbb-7fad-4c65-9c40-2442f628e6cf",
   "metadata": {},
   "outputs": [],
   "source": []
  },
  {
   "cell_type": "markdown",
   "id": "fc4e1464-0dba-4b9a-8ca5-5090265a3be9",
   "metadata": {},
   "source": [
    "3. Decision Tree and Optimize `Max_Depth` Hyperparamter According to Score"
   ]
  },
  {
   "cell_type": "code",
   "execution_count": null,
   "id": "19947654-3287-4edf-b5d1-e9727c696541",
   "metadata": {},
   "outputs": [],
   "source": []
  },
  {
   "cell_type": "markdown",
   "id": "e2f0e209-d251-4871-ad92-c7c9a81fcb64",
   "metadata": {},
   "source": [
    "4. K-Neighbors Classifier and Get the Expected Features X<sub>e</sub> of Each Classes"
   ]
  },
  {
   "cell_type": "code",
   "execution_count": null,
   "id": "2c28b798-ce8c-4677-aef4-c45360590dec",
   "metadata": {},
   "outputs": [],
   "source": []
  },
  {
   "cell_type": "markdown",
   "id": "0ccc9eef-e2c4-45b9-bc7e-87116ddd1881",
   "metadata": {},
   "source": [
    "5. Random Forest Classifer"
   ]
  },
  {
   "cell_type": "code",
   "execution_count": null,
   "id": "a217d8c7-3578-4338-b2ff-9b37af207743",
   "metadata": {},
   "outputs": [],
   "source": []
  }
 ],
 "metadata": {
  "kernelspec": {
   "display_name": "Python 3 (ipykernel)",
   "language": "python",
   "name": "python3"
  },
  "language_info": {
   "codemirror_mode": {
    "name": "ipython",
    "version": 3
   },
   "file_extension": ".py",
   "mimetype": "text/x-python",
   "name": "python",
   "nbconvert_exporter": "python",
   "pygments_lexer": "ipython3",
   "version": "3.12.7"
  }
 },
 "nbformat": 4,
 "nbformat_minor": 5
}
