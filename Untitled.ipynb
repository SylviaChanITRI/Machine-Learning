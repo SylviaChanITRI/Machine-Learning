{
 "cells": [
  {
   "cell_type": "code",
   "execution_count": 8,
   "id": "abe12612-159a-4084-8343-9d12dc3741e1",
   "metadata": {},
   "outputs": [
    {
     "ename": "IndentationError",
     "evalue": "unexpected indent (204242976.py, line 27)",
     "output_type": "error",
     "traceback": [
      "\u001b[0;36m  Cell \u001b[0;32mIn[8], line 27\u001b[0;36m\u001b[0m\n\u001b[0;31m    self.eta=eta\u001b[0m\n\u001b[0m    ^\u001b[0m\n\u001b[0;31mIndentationError\u001b[0m\u001b[0;31m:\u001b[0m unexpected indent\n"
     ]
    }
   ],
   "source": [
    "# Implementing a perceptron learning algorithm in Python\n",
    "# An object-oriented perceptron API \n",
    "\n",
    "import numpy as np\n",
    "\n",
    "class Perceptron(object):\n",
    "    \"\"\"Perceptron classifier\n",
    "\n",
    "    Parameters\n",
    "    ------------\n",
    "    eta:float\n",
    "        Learningrate(between 0.0 and 1.0)\n",
    "    n_iter:int\n",
    "        Passes over the trainingdataset.\n",
    "    random_state:int\n",
    "        Random number generator seed for random weight initialzation.\n",
    "\n",
    "    Attributes\n",
    "    -------------\n",
    "    w_:1d-array\n",
    "        weight after fitting.\n",
    "    errors:list\n",
    "        Number of misclassifications in every epoch.\n",
    "\n",
    "    \"\"\"\n",
    "    def_init(self, eta=0.01, n_iter=50, random_state=1)\n",
    "        self.eta=eta\n",
    "        self.n_iter=n_iter\n",
    "        self.random_state=random_state\n",
    "\n",
    "    def fit(self, X, y)\n",
    "        \"\"\"Fit training data.\n",
    "\n",
    "        Parameters\n",
    "        -----------\n",
    "        X:(arrary-like), shape=[n_examples, n_features]\n",
    "        Training vectors, where n_example is the number of examples and n_feature is the number of features.\n",
    "        y:array-like, shape = [n_example]\n",
    "            Target values.\n",
    "\n",
    "        Returns\n",
    "        --------\n",
    "        self:object\n",
    "        \"\"\"\n",
    "        rgen=np.random.RandomState(self.random_state)\n",
    "        self.w_=rgen.normal(loc=0.0, scale=0.01, size=1+X.shape[1])\n",
    "        self.errors_=[]\n",
    "\n",
    "        for _ in range(delf.n_iter):\n",
    "            errors=0\n",
    "            for xi, target in zip(X, y):\n",
    "                update=self.eta*(target-self.predict(xi))\n",
    "                self.w_[1:]+=update*xi\n",
    "                self.w_[0]+=update\n",
    "                errors+=int(update!=0.0)\n",
    "            seld.errors_.append(errors)\n",
    "        return self\n",
    "\n",
    "    def net_input(self, X):\n",
    "        \"\"\"Calculate net input\"\"\"\n",
    "        return np.dot(X, self.w_[1:]+self.w_[0])\n",
    "\n",
    "    def predict(self, X):\n",
    "        \"\"\"Return class label after unit step\"\"\"\n",
    "        return np.where(self.net_input(X)>=0.0, 1, -1)\n",
    "\n",
    "\n",
    "\n",
    "\n",
    "v1=np.array([1, 2, 3])\n",
    "v2=0.5*v1\n",
    "np.arccos(v1.dot(v2)/(np.linalg.norm(v1)*np.linalg.norm(v2)))\n"
   ]
  },
  {
   "cell_type": "code",
   "execution_count": null,
   "id": "e2d33197-933c-4f2d-bc76-c91afb8b4e5f",
   "metadata": {},
   "outputs": [],
   "source": []
  }
 ],
 "metadata": {
  "kernelspec": {
   "display_name": "Python 3 (ipykernel)",
   "language": "python",
   "name": "python3"
  },
  "language_info": {
   "codemirror_mode": {
    "name": "ipython",
    "version": 3
   },
   "file_extension": ".py",
   "mimetype": "text/x-python",
   "name": "python",
   "nbconvert_exporter": "python",
   "pygments_lexer": "ipython3",
   "version": "3.12.4"
  }
 },
 "nbformat": 4,
 "nbformat_minor": 5
}
