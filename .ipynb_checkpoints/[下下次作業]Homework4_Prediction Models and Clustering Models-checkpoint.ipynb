{
 "cells": [
  {
   "cell_type": "markdown",
   "id": "06a4fde9-8344-475e-b6d2-c1c5d82f6678",
   "metadata": {},
   "source": [
    "### Using RANSAC to filtering Outlier (Samples) to Build an Housing Price Prediction Model in Boston"
   ]
  },
  {
   "cell_type": "code",
   "execution_count": 3,
   "id": "2c6c7688-671e-4fa8-9fc5-5760c7e4d733",
   "metadata": {},
   "outputs": [],
   "source": [
    "from sklearn.datasets import fetch_california_housing\n",
    "data = fetch_california_housing()\n",
    "X, y = data['data'], data['target']"
   ]
  },
  {
   "cell_type": "code",
   "execution_count": 4,
   "id": "6e288d31-88fc-4a69-b645-bab9e378c24a",
   "metadata": {},
   "outputs": [
    {
     "data": {
      "text/plain": [
       "(['MedInc',\n",
       "  'HouseAge',\n",
       "  'AveRooms',\n",
       "  'AveBedrms',\n",
       "  'Population',\n",
       "  'AveOccup',\n",
       "  'Latitude',\n",
       "  'Longitude'],\n",
       " {0: 'MedHouseVal'})"
      ]
     },
     "execution_count": 4,
     "metadata": {},
     "output_type": "execute_result"
    }
   ],
   "source": [
    "data['feature_names'], {i: cls for i, cls in enumerate(data['target_names'])}"
   ]
  },
  {
   "cell_type": "markdown",
   "id": "f59bcda1-4f21-4f6c-bbb1-29faba823d3e",
   "metadata": {},
   "source": [
    "### Using K-Mean to find how many Communities may existed in Boston, and Where is the Center of Each Communities"
   ]
  },
  {
   "cell_type": "code",
   "execution_count": null,
   "id": "805fd1e2-34fe-42aa-b6ab-ab11d13926ff",
   "metadata": {},
   "outputs": [],
   "source": []
  },
  {
   "cell_type": "code",
   "execution_count": null,
   "id": "0430e083-bf32-4bf2-b050-4cc48fd6eb25",
   "metadata": {},
   "outputs": [],
   "source": []
  }
 ],
 "metadata": {
  "kernelspec": {
   "display_name": "Python 3 (ipykernel)",
   "language": "python",
   "name": "python3"
  },
  "language_info": {
   "codemirror_mode": {
    "name": "ipython",
    "version": 3
   },
   "file_extension": ".py",
   "mimetype": "text/x-python",
   "name": "python",
   "nbconvert_exporter": "python",
   "pygments_lexer": "ipython3",
   "version": "3.12.7"
  }
 },
 "nbformat": 4,
 "nbformat_minor": 5
}
