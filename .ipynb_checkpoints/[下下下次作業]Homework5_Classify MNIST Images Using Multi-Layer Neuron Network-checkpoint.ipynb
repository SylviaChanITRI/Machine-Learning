{
 "cells": [
  {
   "cell_type": "markdown",
   "id": "c50cf32d-19a9-40e8-8cba-e13e17e445c0",
   "metadata": {},
   "source": [
    "### Using Class to Implement a Multi-Laye Perception refer to p.375~p.380"
   ]
  },
  {
   "cell_type": "code",
   "execution_count": null,
   "id": "4b07b927-d0f5-4729-936a-f149c7943f07",
   "metadata": {},
   "outputs": [],
   "source": []
  },
  {
   "cell_type": "markdown",
   "id": "5c9447a2-bc6b-4c6c-8fb5-536663d5c466",
   "metadata": {},
   "source": [
    "### Build an MLP to Recognize the Number in each Images"
   ]
  },
  {
   "cell_type": "code",
   "execution_count": 3,
   "id": "851df566-bbe6-4003-9894-d7a6065c83c7",
   "metadata": {},
   "outputs": [],
   "source": [
    "from sklearn.datasets import load_digits\n",
    "import matplotlib.pyplot as plt\n",
    "\n",
    "digits = load_digits()\n",
    "X, y = digits.images, digits.target"
   ]
  },
  {
   "cell_type": "code",
   "execution_count": 4,
   "id": "48442d9b-90f2-4c89-8638-07b58e24ddaf",
   "metadata": {},
   "outputs": [
    {
     "data": {
      "image/png": "[encoded data removed]",
      "text/plain": [
       "<Figure size 1000x300 with 4 Axes>"
      ]
     },
     "metadata": {},
     "output_type": "display_data"
    }
   ],
   "source": [
    "_, axes = plt.subplots(nrows=1, ncols=4, figsize=(10, 3))\n",
    "for ax, image, label in zip(axes, X, y):\n",
    "    ax.set_axis_off()\n",
    "    ax.imshow(image, cmap=plt.cm.gray_r, interpolation=\"nearest\")\n",
    "    ax.set_title(\"Image: %i\" % label)"
   ]
  },
  {
   "cell_type": "code",
   "execution_count": null,
   "id": "da6e03e4-f447-4a87-9261-b378e3c05a75",
   "metadata": {},
   "outputs": [],
   "source": []
  }
 ],
 "metadata": {
  "kernelspec": {
   "display_name": "Python 3 (ipykernel)",
   "language": "python",
   "name": "python3"
  },
  "language_info": {
   "codemirror_mode": {
    "name": "ipython",
    "version": 3
   },
   "file_extension": ".py",
   "mimetype": "text/x-python",
   "name": "python",
   "nbconvert_exporter": "python",
   "pygments_lexer": "ipython3",
   "version": "3.12.7"
  }
 },
 "nbformat": 4,
 "nbformat_minor": 5
}
