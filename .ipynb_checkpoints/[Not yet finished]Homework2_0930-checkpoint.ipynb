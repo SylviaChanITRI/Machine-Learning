{
 "cells": [
  {
   "cell_type": "markdown",
   "id": "4362a78c-1c08-4bb9-b111-82b7addc2de7",
   "metadata": {},
   "source": [
    "### Write a Multi-Neuron Perception Model"
   ]
  },
  {
   "cell_type": "markdown",
   "id": "3117f6ea-03c5-48de-87b5-fc640f2a3d41",
   "metadata": {},
   "source": [
    "![](./assets/multi-neuron-perception-network.png)"
   ]
  },
  {
   "cell_type": "code",
   "execution_count": null,
   "id": "e448b1f9-7b61-4d5e-99df-20c3bbcc937e",
   "metadata": {},
   "outputs": [],
   "source": [
    "# Based on the following algorithum:\n",
    "# if (y is not equal to t)\n",
    "#    Wi(new)=Wi(old)+atx\n",
    "#    b(new)=b(old)+at\n",
    "# else\n",
    "#    Wi(new)=Wi(old)\n",
    "#    b(new)=b(old)\n",
    "\n",
    "\n",
    "import numpy as np\n",
    "import pandas as pd\n",
    "\n",
    "# Load data from https://www.kaggle.com/liujiaqi/hr-comma-sepcsv\n",
    "data=pd.read_csv('HR_comma_sep.csv')\n",
    "data.head()\n",
    "\n",
    "\n",
    "# Import LabelEncoder\n",
    "from sklearn import preprocessing\n",
    "\n",
    "# Creating labelEncoder\n",
    "le = precessing.LabelEncoder()\n",
    "\n",
    "# Converting string labels into numbers\n",
    "data['salary']=le.fit.transform(data['salary'])\n",
    "data['Departments']=le.fit_transform(data['Departments'])\n",
    "\n",
    "\n",
    "# Spliting data into Feature\n",
    "X=data['satisfaction_level', 'last_evaluation', 'number_project', 'average_monthly_hours', 'time_spend_company', 'Work_accident', 'promotion_last_5years', 'Departments', 'salary']]\n",
    "y=data['left']\n",
    "\n",
    "#Import train_test_split function\n",
    "from sklearn.model_selection import train_test_split\n",
    "\n",
    "# Split dataset into training set and test set\n",
    "X_train, X_test, y_train, y_test=train)testsplit(X, y, test_size=0.3, random_state=42)  # 70% training and 30% test\n",
    "\n",
    "\n",
    "# Import MLPClassifer\n",
    "from sklearn.neural_network import MLPClassifier\n",
    "\n",
    "# Create model object\n",
    "clf = MLPClassifier(hidden_layer_sizes=(6.5),\n",
    "                   random_state=5,\n",
    "                   verbose=True,\n",
    "                   learning_rate_init=0.01)\n",
    "\n",
    "# Fit data onto the model\n",
    "clf.fit(X_train, y_train)\n",
    "\n",
    "\n",
    "# Make prediction on test dataset\n",
    "ypred=clf.predict(X_test)\n",
    "\n",
    "# Import accuracy score\n",
    "from sklearn.metrics import accuracy_score\n",
    "\n",
    "# Calculate accuracy\n",
    "accuracy_score(y_test,ypred)"
   ]
  }
 ],
 "metadata": {
  "kernelspec": {
   "display_name": "Python 3 (ipykernel)",
   "language": "python",
   "name": "python3"
  },
  "language_info": {
   "codemirror_mode": {
    "name": "ipython",
    "version": 3
   },
   "file_extension": ".py",
   "mimetype": "text/x-python",
   "name": "python",
   "nbconvert_exporter": "python",
   "pygments_lexer": "ipython3",
   "version": "3.12.4"
  }
 },
 "nbformat": 4,
 "nbformat_minor": 5
}
