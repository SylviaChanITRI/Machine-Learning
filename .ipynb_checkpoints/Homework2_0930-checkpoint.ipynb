{
 "cells": [
  {
   "cell_type": "markdown",
   "id": "4362a78c-1c08-4bb9-b111-82b7addc2de7",
   "metadata": {},
   "source": [
    "### Write a Multi-Neuron Perception Model"
   ]
  },
  {
   "cell_type": "markdown",
   "id": "3117f6ea-03c5-48de-87b5-fc640f2a3d41",
   "metadata": {},
   "source": [
    "![](./assets/multi-neuron-perception-network.png)"
   ]
  },
  {
   "cell_type": "code",
   "execution_count": null,
   "id": "e448b1f9-7b61-4d5e-99df-20c3bbcc937e",
   "metadata": {},
   "outputs": [],
   "source": []
  }
 ],
 "metadata": {
  "kernelspec": {
   "display_name": "Python 3 (ipykernel)",
   "language": "python",
   "name": "python3"
  },
  "language_info": {
   "codemirror_mode": {
    "name": "ipython",
    "version": 3
   },
   "file_extension": ".py",
   "mimetype": "text/x-python",
   "name": "python",
   "nbconvert_exporter": "python",
   "pygments_lexer": "ipython3",
   "version": "3.12.6"
  }
 },
 "nbformat": 4,
 "nbformat_minor": 5
}
