{
 "cells": [
  {
   "cell_type": "markdown",
   "id": "4362a78c-1c08-4bb9-b111-82b7addc2de7",
   "metadata": {},
   "source": [
    "### 2-1. Write a Multi-Neuron Perception Model, and try to predict the class of each Samples in Iris Dataset."
   ]
  },
  {
   "cell_type": "markdown",
   "id": "3117f6ea-03c5-48de-87b5-fc640f2a3d41",
   "metadata": {},
   "source": [
    "![](./assets/multi-neuron-perception-network.png)"
   ]
  },
  {
   "cell_type": "code",
   "execution_count": 3,
   "id": "dc698b05-a4ff-4d50-ba5f-af6426ae94c2",
   "metadata": {},
   "outputs": [
    {
     "data": {
      "text/plain": [
       "((150, 4), (150,))"
      ]
     },
     "execution_count": 3,
     "metadata": {},
     "output_type": "execute_result"
    }
   ],
   "source": [
    "from sklearn import datasets\n",
    "\n",
    "iris = datasets.load_iris()\n",
    "X, y = iris['data'], iris['target']\n",
    "X.shape, y.shape"
   ]
  },
  {
   "cell_type": "markdown",
   "id": "9bd95219-8d60-4701-9f66-a843de84880a",
   "metadata": {},
   "source": [
    "### 2-2. Using the same Dataset to implement the classify models below via [**Scikit-Learn**](https://scikit-learn.org/stable/user_guide.html) Machine Learning Library\n",
    "\n",
    "#### Please use the annotations to explain the rationale and hyperparameter settings for each classifier."
   ]
  },
  {
   "cell_type": "markdown",
   "id": "716bdacd-6307-46f4-9f9e-1d076fece050",
   "metadata": {},
   "source": [
    "a. Logistic Regression"
   ]
  },
  {
   "cell_type": "code",
   "execution_count": null,
   "id": "3f9b26ee-7a40-448e-92bb-da272d7005c9",
   "metadata": {},
   "outputs": [],
   "source": []
  },
  {
   "cell_type": "markdown",
   "id": "3d8472d5-b945-4496-9f59-538e5cc6135e",
   "metadata": {},
   "source": [
    "b. Support Vector Machine"
   ]
  },
  {
   "cell_type": "code",
   "execution_count": null,
   "id": "f1ee0132-70b5-4569-860b-d8d0d334f8ad",
   "metadata": {},
   "outputs": [],
   "source": []
  },
  {
   "cell_type": "markdown",
   "id": "6da665ed-2653-48d7-bab3-ee58bb483945",
   "metadata": {},
   "source": [
    "c. K-Neighbors Classifier"
   ]
  },
  {
   "cell_type": "code",
   "execution_count": null,
   "id": "5a6a84be-222e-4b47-a92e-9dfb76894b55",
   "metadata": {},
   "outputs": [],
   "source": []
  },
  {
   "cell_type": "markdown",
   "id": "2f4dfc51-65b4-4155-b51a-3deb475c5556",
   "metadata": {},
   "source": [
    "d. Decision Tree Classifier"
   ]
  },
  {
   "cell_type": "code",
   "execution_count": null,
   "id": "ad321428-ec8e-415b-8137-3d94e025223d",
   "metadata": {},
   "outputs": [],
   "source": []
  },
  {
   "cell_type": "markdown",
   "id": "e9e9ad8d-ab26-40ff-bacf-08616ee76e65",
   "metadata": {},
   "source": [
    "e. Random Forest Classifier"
   ]
  },
  {
   "cell_type": "code",
   "execution_count": null,
   "id": "e08d47d2-0ce6-42cc-8512-4e6e21c68855",
   "metadata": {},
   "outputs": [],
   "source": []
  }
 ],
 "metadata": {
  "kernelspec": {
   "display_name": "Python 3 (ipykernel)",
   "language": "python",
   "name": "python3"
  },
  "language_info": {
   "codemirror_mode": {
    "name": "ipython",
    "version": 3
   },
   "file_extension": ".py",
   "mimetype": "text/x-python",
   "name": "python",
   "nbconvert_exporter": "python",
   "pygments_lexer": "ipython3",
   "version": "3.12.6"
  }
 },
 "nbformat": 4,
 "nbformat_minor": 5
}
